{
  "nbformat": 4,
  "nbformat_minor": 0,
  "metadata": {
    "colab": {
      "provenance": [],
      "collapsed_sections": []
    },
    "kernelspec": {
      "display_name": "Python 3",
      "name": "python3"
    },
    "language_info": {
      "name": "python"
    }
  },
  "cells": [
    {
      "cell_type": "code",
      "source": [
        "from google.colab import drive\n",
        "drive.mount('/content/drive')"
      ],
      "metadata": {
        "id": "XBNhjs279JPa",
        "colab": {
          "base_uri": "https://localhost:8080/"
        },
        "outputId": "1d6615f0-1e9c-4e8f-dc65-b9e3a7c3cac0"
      },
      "execution_count": null,
      "outputs": [
        {
          "output_type": "stream",
          "name": "stdout",
          "text": [
            "Drive already mounted at /content/drive; to attempt to forcibly remount, call drive.mount(\"/content/drive\", force_remount=True).\n"
          ]
        }
      ]
    },
    {
      "cell_type": "code",
      "source": [
        "dir_path = \"/content/drive/MyDrive/IBM/Dataset Plant Disease/fruit-dataset/fruit-dataset\""
      ],
      "metadata": {
        "id": "s8JotZQg9SMQ"
      },
      "execution_count": null,
      "outputs": []
    },
    {
      "cell_type": "code",
      "source": [
        "import os\n",
        "import matplotlib.pyplot as plt\n",
        "from PIL import Image\n",
        "import math\n",
        "classes = os.listdir(dir_path)\n",
        "print(classes)"
      ],
      "metadata": {
        "id": "yiPukOsB9cxZ",
        "colab": {
          "base_uri": "https://localhost:8080/"
        },
        "outputId": "f3e14ab6-0472-478c-d8ae-50f59ed1ab6c"
      },
      "execution_count": null,
      "outputs": [
        {
          "output_type": "stream",
          "name": "stdout",
          "text": [
            "['test', 'train']\n"
          ]
        }
      ]
    },
    {
      "cell_type": "code",
      "source": [
        "dir_path = \"/content/drive/MyDrive/IBM/Dataset Plant Disease/fruit-dataset/fruit-dataset/train\"\n",
        "classes = os.listdir(dir_path)\n",
        "print(classes)"
      ],
      "metadata": {
        "colab": {
          "base_uri": "https://localhost:8080/"
        },
        "id": "zk6LNUP4r2xj",
        "outputId": "b4909169-0fe7-4fba-c93a-4b37e532c08f"
      },
      "execution_count": null,
      "outputs": [
        {
          "output_type": "stream",
          "name": "stdout",
          "text": [
            "['Apple___Black_rot', 'Peach___healthy', 'Corn_(maize)___Northern_Leaf_Blight', 'Corn_(maize)___healthy', 'Apple___healthy', 'Peach___Bacterial_spot']\n"
          ]
        }
      ]
    },
    {
      "cell_type": "code",
      "source": [
        "dir_path = \"/content/drive/MyDrive/IBM/Dataset Plant Disease/fruit-dataset/fruit-dataset/test\"\n",
        "classes = os.listdir(dir_path)\n",
        "print(classes)"
      ],
      "metadata": {
        "id": "KtpaYz5p9kXa",
        "colab": {
          "base_uri": "https://localhost:8080/"
        },
        "outputId": "e23baace-737e-4b5c-e1f3-811f453733bd"
      },
      "execution_count": null,
      "outputs": [
        {
          "output_type": "stream",
          "name": "stdout",
          "text": [
            "['Apple___Black_rot', 'Apple___healthy', 'Corn_(maize)___healthy', 'Corn_(maize)___Northern_Leaf_Blight', 'Peach___healthy', 'Peach___Bacterial_spot']\n"
          ]
        }
      ]
    },
    {
      "cell_type": "code",
      "source": [
        "from tensorflow.keras.models import Sequential\n",
        "from tensorflow.keras.layers import Dense, Flatten, Conv2D, MaxPooling2D, Dropout\n",
        "from tensorflow.keras.losses import sparse_categorical_crossentropy\n",
        "from tensorflow.keras.optimizers import Adam\n",
        "from tensorflow.keras.preprocessing.image import ImageDataGenerator"
      ],
      "metadata": {
        "id": "MV8XZUxg9kkF"
      },
      "execution_count": null,
      "outputs": []
    },
    {
      "cell_type": "code",
      "source": [
        "train_datagen=ImageDataGenerator(rescale=1./255,zoom_range=0.2,horizontal_flip=True,vertical_flip=False)\n",
        "test_datagen=ImageDataGenerator(rescale=1./255)"
      ],
      "metadata": {
        "id": "_pBcMIk_QMRc"
      },
      "execution_count": null,
      "outputs": []
    },
    {
      "cell_type": "code",
      "source": [
        "x_train=train_datagen.flow_from_directory(train,target_size=(128,128),\n",
        "                                        class_mode='categorical',batch_size=24)\n",
        "x_test=test_datagen.flow_from_directory(test,target_size=(128,128),\n",
        "                                        class_mode='categorical',batch_size=24)"
      ],
      "metadata": {
        "id": "x-ayEAsvQMWo",
        "colab": {
          "base_uri": "https://localhost:8080/"
        },
        "outputId": "efa0dbd3-b968-4156-9cf1-08f8cfbf908f"
      },
      "execution_count": null,
      "outputs": [
        {
          "output_type": "stream",
          "name": "stdout",
          "text": [
            "Found 5384 images belonging to 6 classes.\n",
            "Found 5384 images belonging to 6 classes.\n"
          ]
        }
      ]
    },
    {
      "cell_type": "code",
      "source": [
        "model=Sequential()\n",
        "model.add(Conv2D(32,(3,3),input_shape=(128,128,3),activation='relu'))\n",
        "model.add(MaxPooling2D(pool_size=(2,2)))\n",
        "model.add(Flatten())\n",
        "model.summary()"
      ],
      "metadata": {
        "id": "WsLRZ7d2QMaP",
        "colab": {
          "base_uri": "https://localhost:8080/"
        },
        "outputId": "5c3f0adf-ab5a-4f4e-c5e3-205d9bf40733"
      },
      "execution_count": null,
      "outputs": [
        {
          "output_type": "stream",
          "name": "stdout",
          "text": [
            "Model: \"sequential_1\"\n",
            "_________________________________________________________________\n",
            " Layer (type)                Output Shape              Param #   \n",
            "=================================================================\n",
            " conv2d_1 (Conv2D)           (None, 126, 126, 32)      896       \n",
            "                                                                 \n",
            " max_pooling2d_1 (MaxPooling  (None, 63, 63, 32)       0         \n",
            " 2D)                                                             \n",
            "                                                                 \n",
            " flatten_1 (Flatten)         (None, 127008)            0         \n",
            "                                                                 \n",
            "=================================================================\n",
            "Total params: 896\n",
            "Trainable params: 896\n",
            "Non-trainable params: 0\n",
            "_________________________________________________________________\n"
          ]
        }
      ]
    },
    {
      "cell_type": "code",
      "source": [
        "32*(3*3*3+1)\n",
        "model.add(Dense(300,activation='relu'))\n",
        "model.add(Dense(150,activation='relu'))\n",
        "model.add(Dense(6,activation='softmax'))\n",
        "model.compile(loss='categorical_crossentropy',optimizer='adam',metrics=['accuracy'])\n",
        "len(x_train)"
      ],
      "metadata": {
        "id": "3G6XSZfbQMeR",
        "colab": {
          "base_uri": "https://localhost:8080/"
        },
        "outputId": "5a4ab735-133b-46a8-ca82-6b8d004bc149"
      },
      "execution_count": null,
      "outputs": [
        {
          "output_type": "execute_result",
          "data": {
            "text/plain": [
              "225"
            ]
          },
          "metadata": {},
          "execution_count": 29
        }
      ]
    },
    {
      "cell_type": "code",
      "source": [
        "1238/24"
      ],
      "metadata": {
        "id": "Napchh8qQMiA",
        "colab": {
          "base_uri": "https://localhost:8080/"
        },
        "outputId": "bc9cb0e7-5836-4d19-d166-804b85439238"
      },
      "execution_count": null,
      "outputs": [
        {
          "output_type": "execute_result",
          "data": {
            "text/plain": [
              "51.583333333333336"
            ]
          },
          "metadata": {},
          "execution_count": 30
        }
      ]
    },
    {
      "cell_type": "code",
      "source": [
        "model.fit(x_train,steps_per_epoch=len(x_train),validation_data=x_test,validation_steps=len(x_test),epochs=2)"
      ],
      "metadata": {
        "id": "IB6M0rNhQv-T",
        "colab": {
          "base_uri": "https://localhost:8080/"
        },
        "outputId": "98dcfb22-790c-41b5-805c-a54a3f315a05"
      },
      "execution_count": null,
      "outputs": [
        {
          "output_type": "stream",
          "name": "stdout",
          "text": [
            "Epoch 1/2\n",
            "225/225 [==============================] - 798s 3s/step - loss: 1.0562 - accuracy: 0.7656 - val_loss: 0.3355 - val_accuracy: 0.8741\n",
            "Epoch 2/2\n",
            "225/225 [==============================] - 203s 904ms/step - loss: 0.2656 - accuracy: 0.9095 - val_loss: 0.1863 - val_accuracy: 0.9324\n"
          ]
        },
        {
          "output_type": "execute_result",
          "data": {
            "text/plain": [
              "<keras.callbacks.History at 0x7f544ade50d0>"
            ]
          },
          "metadata": {},
          "execution_count": 31
        }
      ]
    },
    {
      "cell_type": "code",
      "source": [
        "model.save('fruit.h5')"
      ],
      "metadata": {
        "id": "Hta8f6a-Lbko"
      },
      "execution_count": null,
      "outputs": []
    }
  ]
}