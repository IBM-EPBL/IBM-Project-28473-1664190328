{
  "nbformat": 4,
  "nbformat_minor": 0,
  "metadata": {
    "colab": {
      "provenance": [],
      "collapsed_sections": []
    },
    "kernelspec": {
      "display_name": "Python 3",
      "name": "python3"
    },
    "language_info": {
      "name": "python"
    }
  },
  "cells": [
    {
      "cell_type": "code",
      "source": [
        "from google.colab import drive\n",
        "drive.mount('/content/drive')"
      ],
      "metadata": {
        "id": "XBNhjs279JPa",
        "colab": {
          "base_uri": "https://localhost:8080/"
        },
        "outputId": "4db569e1-c974-4987-9163-4f02d2cc6c76"
      },
      "execution_count": null,
      "outputs": [
        {
          "output_type": "stream",
          "name": "stdout",
          "text": [
            "Mounted at /content/drive\n"
          ]
        }
      ]
    },
    {
      "cell_type": "code",
      "source": [
        "dir_path = \"/content/drive/MyDrive/IBM/Dataset Plant Disease/Veg-dataset/Veg-dataset\""
      ],
      "metadata": {
        "id": "s8JotZQg9SMQ"
      },
      "execution_count": null,
      "outputs": []
    },
    {
      "cell_type": "code",
      "source": [
        "import os\n",
        "import matplotlib.pyplot as plt\n",
        "from PIL import Image\n",
        "import math\n",
        "classes = os.listdir(dir_path)\n",
        "print(classes)"
      ],
      "metadata": {
        "id": "yiPukOsB9cxZ",
        "colab": {
          "base_uri": "https://localhost:8080/"
        },
        "outputId": "bf19b20c-35ae-481b-a540-196b41308153"
      },
      "execution_count": null,
      "outputs": [
        {
          "output_type": "stream",
          "name": "stdout",
          "text": [
            "['test_set', 'train_set']\n"
          ]
        }
      ]
    },
    {
      "cell_type": "code",
      "source": [
        "dir_path = \"/content/drive/MyDrive/IBM/Dataset Plant Disease/Veg-dataset/Veg-dataset/train_set\"\n",
        "classes = os.listdir(dir_path)\n",
        "print(classes)"
      ],
      "metadata": {
        "colab": {
          "base_uri": "https://localhost:8080/"
        },
        "id": "zk6LNUP4r2xj",
        "outputId": "004a9178-cebf-4d5d-a7b8-5b3c86c5a1d7"
      },
      "execution_count": null,
      "outputs": [
        {
          "output_type": "stream",
          "name": "stdout",
          "text": [
            "['Potato___Late_blight', 'Potato___Early_blight', 'Tomato___Late_blight', 'Tomato___Septoria_leaf_spot', 'Tomato___Bacterial_spot', 'Potato___healthy', 'Tomato___Leaf_Mold', 'Pepper,_bell___healthy', 'Pepper,_bell___Bacterial_spot']\n"
          ]
        }
      ]
    },
    {
      "cell_type": "code",
      "source": [
        "dir_path = \"/content/drive/MyDrive/IBM/Dataset Plant Disease/Veg-dataset/Veg-dataset/test_set\"\n",
        "classes = os.listdir(dir_path)\n",
        "print(classes)"
      ],
      "metadata": {
        "id": "KtpaYz5p9kXa",
        "colab": {
          "base_uri": "https://localhost:8080/"
        },
        "outputId": "df7f5378-e429-4ab8-de2d-a93843200112"
      },
      "execution_count": null,
      "outputs": [
        {
          "output_type": "stream",
          "name": "stdout",
          "text": [
            "['Tomato___Septoria_leaf_spot', 'Tomato___Leaf_Mold', 'Potato___healthy', 'Pepper,_bell___Bacterial_spot', 'Potato___Early_blight', 'Potato___Late_blight', 'Tomato___Bacterial_spot', 'Tomato___Late_blight', 'Pepper,_bell___healthy']\n"
          ]
        }
      ]
    },
    {
      "cell_type": "code",
      "source": [
        "train = \"/content/drive/MyDrive/IBM/Dataset Plant Disease/Veg-dataset/Veg-dataset/train_set\" \n",
        "test = \"/content/drive/MyDrive/IBM/Dataset Plant Disease/Veg-dataset/Veg-dataset/test_set\""
      ],
      "metadata": {
        "id": "sOGd2uV_W8fg"
      },
      "execution_count": null,
      "outputs": []
    },
    {
      "cell_type": "code",
      "source": [
        "from tensorflow.keras.models import Sequential\n",
        "from tensorflow.keras.layers import Dense, Flatten, Conv2D, MaxPooling2D, Dropout\n",
        "from tensorflow.keras.losses import sparse_categorical_crossentropy\n",
        "from tensorflow.keras.optimizers import Adam\n",
        "from tensorflow.keras.preprocessing.image import ImageDataGenerator"
      ],
      "metadata": {
        "id": "MV8XZUxg9kkF"
      },
      "execution_count": null,
      "outputs": []
    },
    {
      "cell_type": "code",
      "source": [
        "train_datagen=ImageDataGenerator(rescale=1./255,zoom_range=0.2,horizontal_flip=True,vertical_flip=False)\n",
        "test_datagen=ImageDataGenerator(rescale=1./255)"
      ],
      "metadata": {
        "id": "_pBcMIk_QMRc"
      },
      "execution_count": null,
      "outputs": []
    },
    {
      "cell_type": "code",
      "source": [
        "x_train=train_datagen.flow_from_directory(train,target_size=(128,128),\n",
        "                                        class_mode='categorical',batch_size=24)\n",
        "x_test=test_datagen.flow_from_directory(test,target_size=(128,128),\n",
        "                                        class_mode='categorical',batch_size=24)"
      ],
      "metadata": {
        "id": "x-ayEAsvQMWo",
        "colab": {
          "base_uri": "https://localhost:8080/"
        },
        "outputId": "484396ee-8c67-4984-9f03-f3e7f39c160f"
      },
      "execution_count": null,
      "outputs": [
        {
          "output_type": "stream",
          "name": "stdout",
          "text": [
            "Found 11398 images belonging to 9 classes.\n",
            "Found 3416 images belonging to 9 classes.\n"
          ]
        }
      ]
    },
    {
      "cell_type": "code",
      "source": [
        "model=Sequential()\n",
        "model.add(Conv2D(32,(3,3),input_shape=(128,128,3),activation='relu'))\n",
        "model.add(MaxPooling2D(pool_size=(2,2)))\n",
        "model.add(Flatten())\n",
        "model.summary()"
      ],
      "metadata": {
        "id": "WsLRZ7d2QMaP",
        "colab": {
          "base_uri": "https://localhost:8080/"
        },
        "outputId": "8111798e-dbb3-4e52-a6c3-b4f21bdbdfe2"
      },
      "execution_count": null,
      "outputs": [
        {
          "output_type": "stream",
          "name": "stdout",
          "text": [
            "Model: \"sequential_1\"\n",
            "_________________________________________________________________\n",
            " Layer (type)                Output Shape              Param #   \n",
            "=================================================================\n",
            " conv2d_1 (Conv2D)           (None, 126, 126, 32)      896       \n",
            "                                                                 \n",
            " max_pooling2d_1 (MaxPooling  (None, 63, 63, 32)       0         \n",
            " 2D)                                                             \n",
            "                                                                 \n",
            " flatten_1 (Flatten)         (None, 127008)            0         \n",
            "                                                                 \n",
            "=================================================================\n",
            "Total params: 896\n",
            "Trainable params: 896\n",
            "Non-trainable params: 0\n",
            "_________________________________________________________________\n"
          ]
        }
      ]
    },
    {
      "cell_type": "code",
      "source": [
        "model.add(Dense(300,activation='relu'))\n",
        "model.add(Dense(150,activation='relu'))\n",
        "model.add(Dense(9,activation='softmax'))\n",
        "model.compile(loss='categorical_crossentropy',optimizer='adam',metrics=['accuracy'])\n",
        "len(x_train)"
      ],
      "metadata": {
        "id": "3G6XSZfbQMeR",
        "colab": {
          "base_uri": "https://localhost:8080/"
        },
        "outputId": "fc1a5742-11bf-4316-ff4d-58d23f8159ce"
      },
      "execution_count": null,
      "outputs": [
        {
          "output_type": "execute_result",
          "data": {
            "text/plain": [
              "475"
            ]
          },
          "metadata": {},
          "execution_count": 20
        }
      ]
    },
    {
      "cell_type": "code",
      "source": [
        "1238/24"
      ],
      "metadata": {
        "id": "Napchh8qQMiA",
        "colab": {
          "base_uri": "https://localhost:8080/"
        },
        "outputId": "34a9aab3-b94f-4c11-9426-c64e71ab3783"
      },
      "execution_count": null,
      "outputs": [
        {
          "output_type": "execute_result",
          "data": {
            "text/plain": [
              "51.583333333333336"
            ]
          },
          "metadata": {},
          "execution_count": 21
        }
      ]
    },
    {
      "cell_type": "code",
      "source": [
        "model.fit(x_train,steps_per_epoch=len(x_train),validation_data=x_test,validation_steps=len(x_test),epochs=2)"
      ],
      "metadata": {
        "id": "IB6M0rNhQv-T",
        "colab": {
          "base_uri": "https://localhost:8080/"
        },
        "outputId": "47715533-cd5e-4f4a-c9e0-a9b0ad2431bf"
      },
      "execution_count": null,
      "outputs": [
        {
          "output_type": "stream",
          "name": "stdout",
          "text": [
            "Epoch 1/2\n",
            "475/475 [==============================] - 2970s 6s/step - loss: 1.5163 - accuracy: 0.6022 - val_loss: 0.6511 - val_accuracy: 0.7725\n",
            "Epoch 2/2\n",
            "475/475 [==============================] - 419s 881ms/step - loss: 0.5802 - accuracy: 0.7989 - val_loss: 0.6737 - val_accuracy: 0.7775\n"
          ]
        },
        {
          "output_type": "execute_result",
          "data": {
            "text/plain": [
              "<keras.callbacks.History at 0x7ff8c10c6810>"
            ]
          },
          "metadata": {},
          "execution_count": 22
        }
      ]
    },
    {
      "cell_type": "code",
      "source": [
        "model.save('vegetable.h5')"
      ],
      "metadata": {
        "id": "Hta8f6a-Lbko"
      },
      "execution_count": null,
      "outputs": []
    }
  ]
}